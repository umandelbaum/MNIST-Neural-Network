{
 "cells": [
  {
   "cell_type": "markdown",
   "metadata": {},
   "source": [
    "# Introduction\n",
    "\n",
    "In this project, you will build a neural network of your own design to evaluate the MNIST dataset.\n",
    "\n",
    "Some of the benchmark results on MNIST include can be found [on Yann LeCun's page](http://yann.lecun.com/exdb/mnist/) and include:\n",
    "\n",
    "88% [Lecun et al., 1998](http://yann.lecun.com/exdb/publis/pdf/lecun-98.pdf)\n",
    "95.3% [Lecun et al., 1998](http://yann.lecun.com/exdb/publis/pdf/lecun-98.pdf)\n",
    "99.65% [Ciresan et al., 2011](http://people.idsia.ch/~juergen/ijcai2011.pdf)\n",
    "\n",
    "MNIST is a great dataset for sanity checking your models, since the accuracy levels achieved by large convolutional neural networks and small linear models are both quite high. This makes it important to be familiar with the data.\n",
    "\n",
    "## Installation"
   ]
  },
  {
   "cell_type": "code",
   "execution_count": 3,
   "metadata": {},
   "outputs": [],
   "source": [
    "# Update the PATH to include the user installation directory. \n",
    "import os\n",
    "os.environ['PATH'] = f\"{os.environ['PATH']}:/root/.local/bin\"\n",
    "\n",
    "# Restart the Kernel before you move on to the next step."
   ]
  },
  {
   "cell_type": "markdown",
   "metadata": {},
   "source": [
    "#### Important: Restart the Kernel before you move on to the next step."
   ]
  },
  {
   "cell_type": "code",
   "execution_count": null,
   "metadata": {},
   "outputs": [
    {
     "name": "stdout",
     "output_type": "stream",
     "text": [
      "Defaulting to user installation because normal site-packages is not writeable\n",
      "Collecting opencv-python-headless==4.5.3.56\n",
      "  Downloading opencv_python_headless-4.5.3.56-cp37-cp37m-manylinux2014_x86_64.whl (37.1 MB)\n",
      "\u001b[K     |████████████████████████████████| 37.1 MB 4.1 MB/s eta 0:00:01     |████████████████████▍           | 23.7 MB 4.1 MB/s eta 0:00:04\n",
      "\u001b[?25hRequirement already satisfied: matplotlib==3.4.3 in /opt/conda/lib/python3.7/site-packages (from -r requirements.txt (line 2)) (3.4.3)\n",
      "Requirement already satisfied: numpy==1.21.2 in /opt/conda/lib/python3.7/site-packages (from -r requirements.txt (line 3)) (1.21.2)\n",
      "Requirement already satisfied: pillow==7.0.0 in /opt/conda/lib/python3.7/site-packages (from -r requirements.txt (line 4)) (7.0.0)\n",
      "Collecting bokeh==2.1.1\n",
      "  Downloading bokeh-2.1.1.tar.gz (19.3 MB)\n",
      "\u001b[K     |████████████████████████████████| 19.3 MB 62.5 MB/s eta 0:00:01\n",
      "\u001b[?25hRequirement already satisfied: torch==1.11.0 in /opt/conda/lib/python3.7/site-packages (from -r requirements.txt (line 6)) (1.11.0)\n",
      "Collecting torchvision==0.12.0\n",
      "  Downloading torchvision-0.12.0-cp37-cp37m-manylinux1_x86_64.whl (21.0 MB)\n",
      "\u001b[K     |████████████████████████████████| 21.0 MB 63.0 MB/s eta 0:00:01\n",
      "\u001b[?25hCollecting tqdm==4.63.0\n",
      "  Downloading tqdm-4.63.0-py2.py3-none-any.whl (76 kB)\n",
      "\u001b[K     |████████████████████████████████| 76 kB 7.2 MB/s  eta 0:00:01\n",
      "\u001b[?25hCollecting ipywidgets==7.7.0\n",
      "  Downloading ipywidgets-7.7.0-py2.py3-none-any.whl (123 kB)\n",
      "\u001b[K     |████████████████████████████████| 123 kB 65.6 MB/s eta 0:00:01\n",
      "\u001b[?25hCollecting livelossplot==0.5.4\n",
      "  Downloading livelossplot-0.5.4-py3-none-any.whl (22 kB)\n",
      "Collecting pytest==7.1.1\n",
      "  Downloading pytest-7.1.1-py3-none-any.whl (297 kB)\n",
      "\u001b[K     |████████████████████████████████| 297 kB 66.0 MB/s eta 0:00:01\n",
      "\u001b[?25hCollecting pandas==1.3.5\n",
      "  Downloading pandas-1.3.5-cp37-cp37m-manylinux_2_17_x86_64.manylinux2014_x86_64.whl (11.3 MB)\n",
      "\u001b[K     |████████████████████████████████| 11.3 MB 60.7 MB/s eta 0:00:01\n",
      "\u001b[?25hCollecting seaborn==0.11.2\n",
      "  Downloading seaborn-0.11.2-py3-none-any.whl (292 kB)\n",
      "\u001b[K     |████████████████████████████████| 292 kB 72.2 MB/s eta 0:00:01\n",
      "\u001b[?25hCollecting jupyter==1.0.0\n",
      "  Downloading jupyter-1.0.0-py2.py3-none-any.whl (2.7 kB)\n",
      "Collecting ipykernel==4.10.0\n",
      "  Downloading ipykernel-4.10.0-py3-none-any.whl (109 kB)\n",
      "\u001b[K     |████████████████████████████████| 109 kB 72.3 MB/s eta 0:00:01\n",
      "\u001b[?25hRequirement already satisfied: pyparsing>=2.2.1 in /opt/conda/lib/python3.7/site-packages (from matplotlib==3.4.3->-r requirements.txt (line 2)) (2.4.6)\n",
      "Requirement already satisfied: cycler>=0.10 in /opt/conda/lib/python3.7/site-packages (from matplotlib==3.4.3->-r requirements.txt (line 2)) (0.10.0)\n",
      "Requirement already satisfied: kiwisolver>=1.0.1 in /opt/conda/lib/python3.7/site-packages (from matplotlib==3.4.3->-r requirements.txt (line 2)) (1.1.0)\n",
      "Requirement already satisfied: python-dateutil>=2.7 in /opt/conda/lib/python3.7/site-packages (from matplotlib==3.4.3->-r requirements.txt (line 2)) (2.8.1)\n",
      "Requirement already satisfied: PyYAML>=3.10 in /opt/conda/lib/python3.7/site-packages (from bokeh==2.1.1->-r requirements.txt (line 5)) (5.3)\n",
      "Requirement already satisfied: Jinja2>=2.7 in /opt/conda/lib/python3.7/site-packages (from bokeh==2.1.1->-r requirements.txt (line 5)) (2.11.1)\n",
      "Requirement already satisfied: packaging>=16.8 in /opt/conda/lib/python3.7/site-packages (from bokeh==2.1.1->-r requirements.txt (line 5)) (20.1)\n",
      "Requirement already satisfied: tornado>=5.1 in /opt/conda/lib/python3.7/site-packages (from bokeh==2.1.1->-r requirements.txt (line 5)) (5.1.1)\n",
      "Requirement already satisfied: typing_extensions>=3.7.4 in /opt/conda/lib/python3.7/site-packages (from bokeh==2.1.1->-r requirements.txt (line 5)) (3.7.4.1)\n",
      "Requirement already satisfied: requests in /opt/conda/lib/python3.7/site-packages (from torchvision==0.12.0->-r requirements.txt (line 7)) (2.23.0)\n",
      "Requirement already satisfied: ipython>=4.0.0; python_version >= \"3.3\" in /opt/conda/lib/python3.7/site-packages (from ipywidgets==7.7.0->-r requirements.txt (line 9)) (7.13.0)\n",
      "Requirement already satisfied: nbformat>=4.2.0 in /opt/conda/lib/python3.7/site-packages (from ipywidgets==7.7.0->-r requirements.txt (line 9)) (5.0.4)\n",
      "Collecting widgetsnbextension~=3.6.0\n",
      "  Downloading widgetsnbextension-3.6.6-py2.py3-none-any.whl (1.6 MB)\n",
      "\u001b[K     |████████████████████████████████| 1.6 MB 65.8 MB/s eta 0:00:01\n",
      "\u001b[?25hRequirement already satisfied: ipython-genutils~=0.2.0 in /opt/conda/lib/python3.7/site-packages (from ipywidgets==7.7.0->-r requirements.txt (line 9)) (0.2.0)\n",
      "Requirement already satisfied: traitlets>=4.3.1 in /opt/conda/lib/python3.7/site-packages (from ipywidgets==7.7.0->-r requirements.txt (line 9)) (4.3.3)\n",
      "Collecting jupyterlab-widgets>=1.0.0; python_version >= \"3.6\"\n",
      "  Downloading jupyterlab_widgets-3.0.9-py3-none-any.whl (214 kB)\n",
      "\u001b[K     |████████████████████████████████| 214 kB 56.4 MB/s eta 0:00:01\n",
      "\u001b[?25hRequirement already satisfied: attrs>=19.2.0 in /opt/conda/lib/python3.7/site-packages (from pytest==7.1.1->-r requirements.txt (line 11)) (19.3.0)\n",
      "Collecting py>=1.8.2\n",
      "  Downloading py-1.11.0-py2.py3-none-any.whl (98 kB)\n",
      "\u001b[K     |████████████████████████████████| 98 kB 7.1 MB/s  eta 0:00:01\n",
      "\u001b[?25hCollecting tomli>=1.0.0\n",
      "  Downloading tomli-2.0.1-py3-none-any.whl (12 kB)\n",
      "Requirement already satisfied: importlib-metadata>=0.12; python_version < \"3.8\" in /opt/conda/lib/python3.7/site-packages (from pytest==7.1.1->-r requirements.txt (line 11)) (1.5.0)\n",
      "Collecting pluggy<2.0,>=0.12\n",
      "  Downloading pluggy-1.2.0-py3-none-any.whl (17 kB)\n",
      "Collecting iniconfig\n",
      "  Downloading iniconfig-2.0.0-py3-none-any.whl (5.9 kB)\n",
      "Requirement already satisfied: pytz>=2017.3 in /opt/conda/lib/python3.7/site-packages (from pandas==1.3.5->-r requirements.txt (line 12)) (2019.3)\n",
      "Requirement already satisfied: scipy>=1.0 in /opt/conda/lib/python3.7/site-packages (from seaborn==0.11.2->-r requirements.txt (line 13)) (1.7.1)\n",
      "Requirement already satisfied: notebook in /opt/conda/lib/python3.7/site-packages (from jupyter==1.0.0->-r requirements.txt (line 14)) (5.7.4)\n",
      "Requirement already satisfied: nbconvert in /opt/conda/lib/python3.7/site-packages (from jupyter==1.0.0->-r requirements.txt (line 14)) (5.6.1)\n",
      "Collecting qtconsole\n",
      "  Downloading qtconsole-5.4.4-py3-none-any.whl (121 kB)\n",
      "\u001b[K     |████████████████████████████████| 121 kB 71.2 MB/s eta 0:00:01\n",
      "\u001b[?25hCollecting jupyter-console\n",
      "  Downloading jupyter_console-6.6.3-py3-none-any.whl (24 kB)\n",
      "Requirement already satisfied: jupyter-client in /opt/conda/lib/python3.7/site-packages (from ipykernel==4.10.0->-r requirements.txt (line 15)) (6.0.0)\n",
      "Requirement already satisfied: six in /opt/conda/lib/python3.7/site-packages (from cycler>=0.10->matplotlib==3.4.3->-r requirements.txt (line 2)) (1.16.0)\n",
      "Requirement already satisfied: setuptools in /opt/conda/lib/python3.7/site-packages (from kiwisolver>=1.0.1->matplotlib==3.4.3->-r requirements.txt (line 2)) (45.2.0.post20200209)\n",
      "Requirement already satisfied: MarkupSafe>=0.23 in /opt/conda/lib/python3.7/site-packages (from Jinja2>=2.7->bokeh==2.1.1->-r requirements.txt (line 5)) (1.1.1)\n",
      "Requirement already satisfied: urllib3!=1.25.0,!=1.25.1,<1.26,>=1.21.1 in /opt/conda/lib/python3.7/site-packages (from requests->torchvision==0.12.0->-r requirements.txt (line 7)) (1.25.7)\n",
      "Requirement already satisfied: certifi>=2017.4.17 in /opt/conda/lib/python3.7/site-packages (from requests->torchvision==0.12.0->-r requirements.txt (line 7)) (2019.11.28)\n",
      "Requirement already satisfied: idna<3,>=2.5 in /opt/conda/lib/python3.7/site-packages (from requests->torchvision==0.12.0->-r requirements.txt (line 7)) (2.9)\n",
      "Requirement already satisfied: chardet<4,>=3.0.2 in /opt/conda/lib/python3.7/site-packages (from requests->torchvision==0.12.0->-r requirements.txt (line 7)) (3.0.4)\n",
      "Requirement already satisfied: pygments in /opt/conda/lib/python3.7/site-packages (from ipython>=4.0.0; python_version >= \"3.3\"->ipywidgets==7.7.0->-r requirements.txt (line 9)) (2.5.2)\n",
      "Requirement already satisfied: pexpect; sys_platform != \"win32\" in /opt/conda/lib/python3.7/site-packages (from ipython>=4.0.0; python_version >= \"3.3\"->ipywidgets==7.7.0->-r requirements.txt (line 9)) (4.8.0)\n",
      "Requirement already satisfied: jedi>=0.10 in /opt/conda/lib/python3.7/site-packages (from ipython>=4.0.0; python_version >= \"3.3\"->ipywidgets==7.7.0->-r requirements.txt (line 9)) (0.16.0)\n",
      "Requirement already satisfied: prompt-toolkit!=3.0.0,!=3.0.1,<3.1.0,>=2.0.0 in /opt/conda/lib/python3.7/site-packages (from ipython>=4.0.0; python_version >= \"3.3\"->ipywidgets==7.7.0->-r requirements.txt (line 9)) (3.0.3)\n",
      "Requirement already satisfied: pickleshare in /opt/conda/lib/python3.7/site-packages (from ipython>=4.0.0; python_version >= \"3.3\"->ipywidgets==7.7.0->-r requirements.txt (line 9)) (0.7.5)\n",
      "Requirement already satisfied: decorator in /opt/conda/lib/python3.7/site-packages (from ipython>=4.0.0; python_version >= \"3.3\"->ipywidgets==7.7.0->-r requirements.txt (line 9)) (4.4.2)\n",
      "Requirement already satisfied: backcall in /opt/conda/lib/python3.7/site-packages (from ipython>=4.0.0; python_version >= \"3.3\"->ipywidgets==7.7.0->-r requirements.txt (line 9)) (0.1.0)\n",
      "Requirement already satisfied: jupyter-core in /opt/conda/lib/python3.7/site-packages (from nbformat>=4.2.0->ipywidgets==7.7.0->-r requirements.txt (line 9)) (4.6.3)\n",
      "Requirement already satisfied: jsonschema!=2.5.0,>=2.4 in /opt/conda/lib/python3.7/site-packages (from nbformat>=4.2.0->ipywidgets==7.7.0->-r requirements.txt (line 9)) (3.2.0)\n",
      "Requirement already satisfied: zipp>=0.5 in /opt/conda/lib/python3.7/site-packages (from importlib-metadata>=0.12; python_version < \"3.8\"->pytest==7.1.1->-r requirements.txt (line 11)) (3.0.0)\n",
      "Requirement already satisfied: pyzmq>=17 in /opt/conda/lib/python3.7/site-packages (from notebook->jupyter==1.0.0->-r requirements.txt (line 14)) (19.0.0)\n",
      "Requirement already satisfied: terminado>=0.8.1 in /opt/conda/lib/python3.7/site-packages (from notebook->jupyter==1.0.0->-r requirements.txt (line 14)) (0.8.3)\n",
      "Requirement already satisfied: Send2Trash in /opt/conda/lib/python3.7/site-packages (from notebook->jupyter==1.0.0->-r requirements.txt (line 14)) (1.5.0)\n",
      "Requirement already satisfied: prometheus-client in /opt/conda/lib/python3.7/site-packages (from notebook->jupyter==1.0.0->-r requirements.txt (line 14)) (0.7.1)\n",
      "Requirement already satisfied: testpath in /opt/conda/lib/python3.7/site-packages (from nbconvert->jupyter==1.0.0->-r requirements.txt (line 14)) (0.4.4)\n",
      "Requirement already satisfied: mistune<2,>=0.8.1 in /opt/conda/lib/python3.7/site-packages (from nbconvert->jupyter==1.0.0->-r requirements.txt (line 14)) (0.8.4)\n",
      "Requirement already satisfied: entrypoints>=0.2.2 in /opt/conda/lib/python3.7/site-packages (from nbconvert->jupyter==1.0.0->-r requirements.txt (line 14)) (0.3)\n",
      "Requirement already satisfied: bleach in /opt/conda/lib/python3.7/site-packages (from nbconvert->jupyter==1.0.0->-r requirements.txt (line 14)) (3.1.1)\n",
      "Requirement already satisfied: pandocfilters>=1.4.1 in /opt/conda/lib/python3.7/site-packages (from nbconvert->jupyter==1.0.0->-r requirements.txt (line 14)) (1.4.2)\n",
      "Requirement already satisfied: defusedxml in /opt/conda/lib/python3.7/site-packages (from nbconvert->jupyter==1.0.0->-r requirements.txt (line 14)) (0.6.0)\n",
      "Collecting qtpy>=2.4.0\n",
      "  Downloading QtPy-2.4.0-py3-none-any.whl (93 kB)\n",
      "\u001b[K     |████████████████████████████████| 93 kB 2.7 MB/s  eta 0:00:01\n",
      "\u001b[?25hRequirement already satisfied: ptyprocess>=0.5 in /opt/conda/lib/python3.7/site-packages (from pexpect; sys_platform != \"win32\"->ipython>=4.0.0; python_version >= \"3.3\"->ipywidgets==7.7.0->-r requirements.txt (line 9)) (0.6.0)\n",
      "Requirement already satisfied: parso>=0.5.2 in /opt/conda/lib/python3.7/site-packages (from jedi>=0.10->ipython>=4.0.0; python_version >= \"3.3\"->ipywidgets==7.7.0->-r requirements.txt (line 9)) (0.6.1)\n",
      "Requirement already satisfied: wcwidth in /opt/conda/lib/python3.7/site-packages (from prompt-toolkit!=3.0.0,!=3.0.1,<3.1.0,>=2.0.0->ipython>=4.0.0; python_version >= \"3.3\"->ipywidgets==7.7.0->-r requirements.txt (line 9)) (0.1.8)\n",
      "Requirement already satisfied: pyrsistent>=0.14.0 in /opt/conda/lib/python3.7/site-packages (from jsonschema!=2.5.0,>=2.4->nbformat>=4.2.0->ipywidgets==7.7.0->-r requirements.txt (line 9)) (0.15.7)\n",
      "Requirement already satisfied: webencodings in /opt/conda/lib/python3.7/site-packages (from bleach->nbconvert->jupyter==1.0.0->-r requirements.txt (line 14)) (0.5.1)\n",
      "Building wheels for collected packages: bokeh\n",
      "  Building wheel for bokeh (setup.py) ... \u001b[?25ldone\n",
      "\u001b[?25h  Created wheel for bokeh: filename=bokeh-2.1.1-py3-none-any.whl size=9257186 sha256=6633687a313426c95443746d494c3b2d413b3ad8436329508d774e5748857b5e\n",
      "  Stored in directory: /root/.cache/pip/wheels/f7/55/ff/f3d7554e69382d31cf7ad857cf518af9b923134fca7d925187\n",
      "Successfully built bokeh\n",
      "\u001b[31mERROR: jupyter-console 6.6.3 has requirement ipykernel>=6.14, but you'll have ipykernel 4.10.0 which is incompatible.\u001b[0m\n",
      "\u001b[31mERROR: jupyter-console 6.6.3 has requirement jupyter-client>=7.0.0, but you'll have jupyter-client 6.0.0 which is incompatible.\u001b[0m\n",
      "\u001b[31mERROR: jupyter-console 6.6.3 has requirement jupyter-core!=5.0.*,>=4.12, but you'll have jupyter-core 4.6.3 which is incompatible.\u001b[0m\n",
      "\u001b[31mERROR: jupyter-console 6.6.3 has requirement prompt-toolkit>=3.0.30, but you'll have prompt-toolkit 3.0.3 which is incompatible.\u001b[0m\n",
      "\u001b[31mERROR: jupyter-console 6.6.3 has requirement traitlets>=5.4, but you'll have traitlets 4.3.3 which is incompatible.\u001b[0m\n",
      "Installing collected packages: opencv-python-headless, bokeh, torchvision, tqdm, ipykernel, widgetsnbextension, jupyterlab-widgets, ipywidgets, livelossplot, py, tomli, pluggy, iniconfig, pytest, pandas, seaborn, qtpy, qtconsole, jupyter-console, jupyter\n"
     ]
    }
   ],
   "source": [
    "# Install requirements\n",
    "!python -m pip install -r requirements.txt"
   ]
  },
  {
   "cell_type": "markdown",
   "metadata": {},
   "source": [
    "## Imports"
   ]
  },
  {
   "cell_type": "code",
   "execution_count": 1,
   "metadata": {},
   "outputs": [],
   "source": [
    "## This cell contains the essential imports you will need – DO NOT CHANGE THE CONTENTS! ##\n",
    "import torch\n",
    "import torch.nn as nn\n",
    "import torch.nn.functional as F\n",
    "import torch.optim as optim\n",
    "import torchvision\n",
    "import torchvision.transforms as transforms\n",
    "import matplotlib.pyplot as plt\n",
    "import numpy as np"
   ]
  },
  {
   "cell_type": "markdown",
   "metadata": {},
   "source": [
    "## Load the Dataset\n",
    "\n",
    "Specify your transforms as a list if you intend to .\n",
    "The transforms module is already loaded as `transforms`.\n",
    "\n",
    "MNIST is fortunately included in the torchvision module.\n",
    "Then, you can create your dataset using the `MNIST` object from `torchvision.datasets` ([the documentation is available here](https://pytorch.org/vision/stable/datasets.html#mnist)).\n",
    "Make sure to specify `download=True`! \n",
    "\n",
    "Once your dataset is created, you'll also need to define a `DataLoader` from the `torch.utils.data` module for both the train and the test set."
   ]
  },
  {
   "cell_type": "code",
   "execution_count": 2,
   "metadata": {},
   "outputs": [
    {
     "name": "stdout",
     "output_type": "stream",
     "text": [
      "Downloading http://yann.lecun.com/exdb/mnist/train-images-idx3-ubyte.gz\n",
      "Downloading http://yann.lecun.com/exdb/mnist/train-images-idx3-ubyte.gz to /root/.pytorch/MNIST_data/MNIST/raw/train-images-idx3-ubyte.gz\n"
     ]
    },
    {
     "data": {
      "application/vnd.jupyter.widget-view+json": {
       "model_id": "177717590e034b2ab808a99baec91c03",
       "version_major": 2,
       "version_minor": 0
      },
      "text/plain": [
       "  0%|          | 0/9912422 [00:00<?, ?it/s]"
      ]
     },
     "metadata": {},
     "output_type": "display_data"
    },
    {
     "name": "stdout",
     "output_type": "stream",
     "text": [
      "Extracting /root/.pytorch/MNIST_data/MNIST/raw/train-images-idx3-ubyte.gz to /root/.pytorch/MNIST_data/MNIST/raw\n",
      "\n",
      "Downloading http://yann.lecun.com/exdb/mnist/train-labels-idx1-ubyte.gz\n",
      "Downloading http://yann.lecun.com/exdb/mnist/train-labels-idx1-ubyte.gz to /root/.pytorch/MNIST_data/MNIST/raw/train-labels-idx1-ubyte.gz\n"
     ]
    },
    {
     "data": {
      "application/vnd.jupyter.widget-view+json": {
       "model_id": "498c471f723b444383e5ee6189c7872b",
       "version_major": 2,
       "version_minor": 0
      },
      "text/plain": [
       "  0%|          | 0/28881 [00:00<?, ?it/s]"
      ]
     },
     "metadata": {},
     "output_type": "display_data"
    },
    {
     "name": "stdout",
     "output_type": "stream",
     "text": [
      "Extracting /root/.pytorch/MNIST_data/MNIST/raw/train-labels-idx1-ubyte.gz to /root/.pytorch/MNIST_data/MNIST/raw\n",
      "\n",
      "Downloading http://yann.lecun.com/exdb/mnist/t10k-images-idx3-ubyte.gz\n",
      "Downloading http://yann.lecun.com/exdb/mnist/t10k-images-idx3-ubyte.gz to /root/.pytorch/MNIST_data/MNIST/raw/t10k-images-idx3-ubyte.gz\n"
     ]
    },
    {
     "data": {
      "application/vnd.jupyter.widget-view+json": {
       "model_id": "d6b0472cc19c497aaee103fc6b61b44c",
       "version_major": 2,
       "version_minor": 0
      },
      "text/plain": [
       "  0%|          | 0/1648877 [00:00<?, ?it/s]"
      ]
     },
     "metadata": {},
     "output_type": "display_data"
    },
    {
     "name": "stdout",
     "output_type": "stream",
     "text": [
      "Extracting /root/.pytorch/MNIST_data/MNIST/raw/t10k-images-idx3-ubyte.gz to /root/.pytorch/MNIST_data/MNIST/raw\n",
      "\n",
      "Downloading http://yann.lecun.com/exdb/mnist/t10k-labels-idx1-ubyte.gz\n",
      "Downloading http://yann.lecun.com/exdb/mnist/t10k-labels-idx1-ubyte.gz to /root/.pytorch/MNIST_data/MNIST/raw/t10k-labels-idx1-ubyte.gz\n"
     ]
    },
    {
     "data": {
      "application/vnd.jupyter.widget-view+json": {
       "model_id": "b709c65f207e464fbf853e660b86401e",
       "version_major": 2,
       "version_minor": 0
      },
      "text/plain": [
       "  0%|          | 0/4542 [00:00<?, ?it/s]"
      ]
     },
     "metadata": {},
     "output_type": "display_data"
    },
    {
     "name": "stdout",
     "output_type": "stream",
     "text": [
      "Extracting /root/.pytorch/MNIST_data/MNIST/raw/t10k-labels-idx1-ubyte.gz to /root/.pytorch/MNIST_data/MNIST/raw\n",
      "\n"
     ]
    }
   ],
   "source": [
    "# Define transforms\n",
    "train_transform = transforms.Compose([transforms.ToTensor(), transforms.Normalize((0.5,), (0.5,))])\n",
    "test_transform = transforms.Compose([transforms.ToTensor()])\n",
    "                                      \n",
    "# Create training set and define training dataloader\n",
    "trainset = torchvision.datasets.MNIST('~/.pytorch/MNIST_data/', download=True, train=True, transform=train_transform)\n",
    "trainloader = torch.utils.data.DataLoader(trainset, batch_size=64, shuffle=True)\n",
    "\n",
    "# Create test set and define test dataloader\n",
    "testset = torchvision.datasets.MNIST('~/.pytorch/MNIST_data/', download=True, train=False, transform=test_transform)\n",
    "testloader = torch.utils.data.DataLoader(testset, batch_size=64, shuffle=True)"
   ]
  },
  {
   "cell_type": "markdown",
   "metadata": {},
   "source": [
    "## Justify your preprocessing\n",
    "\n",
    "In your own words, why did you choose the transforms you chose? If you didn't use any preprocessing steps, why not?"
   ]
  },
  {
   "cell_type": "markdown",
   "metadata": {},
   "source": [
    "For training, I normalized the data to bring the greyscale within a standard set of numbers   and I changed the image to a tensor to feed it into the Neural Network\n",
    "\n",
    "For testing, I just changed the image to a tensor"
   ]
  },
  {
   "cell_type": "markdown",
   "metadata": {},
   "source": [
    "## Explore the Dataset\n",
    "Using matplotlib, numpy, and torch, explore the dimensions of your data.\n",
    "\n",
    "You can view images using the `show5` function defined below – it takes a data loader as an argument.\n",
    "Remember that normalized images will look really weird to you! You may want to try changing your transforms to view images.\n",
    "Typically using no transforms other than `toTensor()` works well for viewing – but not as well for training your network.\n",
    "If `show5` doesn't work, go back and check your code for creating your data loaders and your training/test sets."
   ]
  },
  {
   "cell_type": "code",
   "execution_count": 3,
   "metadata": {},
   "outputs": [],
   "source": [
    "## This cell contains a function for showing 5 images from a dataloader – DO NOT CHANGE THE CONTENTS! ##\n",
    "def show5(img_loader):\n",
    "    dataiter = iter(img_loader)\n",
    "    \n",
    "    batch = next(dataiter)\n",
    "    labels = batch[1][0:5]\n",
    "    images = batch[0][0:5]\n",
    "    for i in range(5):\n",
    "        print(int(labels[i].detach()))\n",
    "    \n",
    "        image = images[i].numpy()\n",
    "        plt.imshow(image.T.squeeze().T)\n",
    "        plt.show()"
   ]
  },
  {
   "cell_type": "code",
   "execution_count": 4,
   "metadata": {},
   "outputs": [
    {
     "name": "stdout",
     "output_type": "stream",
     "text": [
      "4\n"
     ]
    },
    {
     "data": {
      "image/png": "[encoded data removed]",
      "text/plain": [
       "<Figure size 432x288 with 1 Axes>"
      ]
     },
     "metadata": {
      "needs_background": "light"
     },
     "output_type": "display_data"
    },
    {
     "name": "stdout",
     "output_type": "stream",
     "text": [
      "8\n"
     ]
    },
    {
     "data": {
      "image/png": "[encoded data removed]",
      "text/plain": [
       "<Figure size 432x288 with 1 Axes>"
      ]
     },
     "metadata": {
      "needs_background": "light"
     },
     "output_type": "display_data"
    },
    {
     "name": "stdout",
     "output_type": "stream",
     "text": [
      "6\n"
     ]
    },
    {
     "data": {
      "image/png": "[encoded data removed]",
      "text/plain": [
       "<Figure size 432x288 with 1 Axes>"
      ]
     },
     "metadata": {
      "needs_background": "light"
     },
     "output_type": "display_data"
    },
    {
     "name": "stdout",
     "output_type": "stream",
     "text": [
      "7\n"
     ]
    },
    {
     "data": {
      "image/png": "[encoded data removed]",
      "text/plain": [
       "<Figure size 432x288 with 1 Axes>"
      ]
     },
     "metadata": {
      "needs_background": "light"
     },
     "output_type": "display_data"
    },
    {
     "name": "stdout",
     "output_type": "stream",
     "text": [
      "5\n"
     ]
    },
    {
     "data": {
      "image/png": "[encoded data removed]",
      "text/plain": [
       "<Figure size 432x288 with 1 Axes>"
      ]
     },
     "metadata": {
      "needs_background": "light"
     },
     "output_type": "display_data"
    }
   ],
   "source": [
    "# Explore data\n",
    "show5(trainloader)"
   ]
  },
  {
   "cell_type": "markdown",
   "metadata": {},
   "source": [
    "## Build your Neural Network\n",
    "Using the layers in `torch.nn` (which has been imported as `nn`) and the `torch.nn.functional` module (imported as `F`), construct a neural network based on the parameters of the dataset.\n",
    "Use any architecture you like. \n",
    "\n",
    "*Note*: If you did not flatten your tensors in your transforms or as part of your preprocessing and you are using only `Linear` layers, make sure to use the `Flatten` layer in your network!"
   ]
  },
  {
   "cell_type": "code",
   "execution_count": 18,
   "metadata": {},
   "outputs": [],
   "source": [
    "class MNISTNeuralNetwork(nn.Module):\n",
    "    def __init__(self):\n",
    "        super().__init__()\n",
    "        self.flattenlayer = nn.Flatten()\n",
    "        self.inputlayer = nn.Linear(784, 512)\n",
    "        self.hidden1 = nn.Linear(512, 256)\n",
    "        self.hidden2 = nn.Linear(256, 128)\n",
    "        self.hidden3 = nn.Linear(128, 64)\n",
    "        self.outputlayer = nn.Linear(64, 10)\n",
    "        self.dropout = nn.Dropout(0.3)\n",
    "        \n",
    "    def forward(self, x):\n",
    "        x = self.flattenlayer(x)\n",
    "        x = F.relu(self.inputlayer(x))\n",
    "        x = self.dropout(x)\n",
    "        x = F.relu(self.hidden1(x))\n",
    "        x = self.dropout(x)        \n",
    "        x = F.relu(self.hidden2(x))\n",
    "        x = self.dropout(x)\n",
    "        x = self.hidden3(x)\n",
    "        x = F.log_softmax(self.outputlayer(x), dim=1)\n",
    "        \n",
    "        return x"
   ]
  },
  {
   "cell_type": "markdown",
   "metadata": {},
   "source": [
    "Specify a loss function and an optimizer, and instantiate the model.\n",
    "\n",
    "If you use a less common loss function, please note why you chose that loss function in a comment."
   ]
  },
  {
   "cell_type": "code",
   "execution_count": 19,
   "metadata": {},
   "outputs": [],
   "source": [
    "device = torch.device(\"cuda\" if torch.cuda.is_available() else \"cpu\")\n",
    "\n",
    "model = MNISTNeuralNetwork()\n",
    "model.to(device)\n",
    "\n",
    "criterion = nn.CrossEntropyLoss()\n",
    "optimizer = optim.Adam(model.parameters(), lr=0.001)"
   ]
  },
  {
   "cell_type": "markdown",
   "metadata": {},
   "source": [
    "## Running your Neural Network\n",
    "Use whatever method you like to train your neural network, and ensure you record the average loss at each epoch. \n",
    "Don't forget to use `torch.device()` and the `.to()` method for both your model and your data if you are using GPU!\n",
    "\n",
    "If you want to print your loss **during** each epoch, you can use the `enumerate` function and print the loss after a set number of batches. 250 batches works well for most people!"
   ]
  },
  {
   "cell_type": "code",
   "execution_count": 20,
   "metadata": {},
   "outputs": [
    {
     "name": "stdout",
     "output_type": "stream",
     "text": [
      "Epoch 1 training accuracy: 54.65% training loss: 0.45771\n",
      "Epoch 1 validation accuracy: 57.91% validation loss: 0.29206\n",
      "Epoch 2 training accuracy: 59.31% training loss: 0.25100\n",
      "Epoch 2 validation accuracy: 58.92% validation loss: 0.24804\n",
      "Epoch 3 training accuracy: 60.05% training loss: 0.20844\n",
      "Epoch 3 validation accuracy: 58.94% validation loss: 0.23013\n",
      "Epoch 4 training accuracy: 60.56% training loss: 0.18424\n",
      "Epoch 4 validation accuracy: 59.17% validation loss: 0.22320\n",
      "Epoch 5 training accuracy: 60.79% training loss: 0.16646\n",
      "Epoch 5 validation accuracy: 60.41% validation loss: 0.17213\n",
      "Epoch 6 training accuracy: 61.06% training loss: 0.15556\n",
      "Epoch 6 validation accuracy: 58.99% validation loss: 0.23068\n",
      "Epoch 7 training accuracy: 61.17% training loss: 0.14797\n",
      "Epoch 7 validation accuracy: 60.42% validation loss: 0.17290\n",
      "Epoch 8 training accuracy: 61.33% training loss: 0.14056\n",
      "Epoch 8 validation accuracy: 59.91% validation loss: 0.19843\n",
      "Epoch 9 training accuracy: 61.50% training loss: 0.13203\n",
      "Epoch 9 validation accuracy: 60.24% validation loss: 0.17446\n",
      "Epoch 10 training accuracy: 61.54% training loss: 0.12785\n",
      "Epoch 10 validation accuracy: 60.01% validation loss: 0.19323\n"
     ]
    }
   ],
   "source": [
    "num_epochs = 10\n",
    "\n",
    "# Establish a list for our history\n",
    "train_loss_history = list()\n",
    "val_loss_history = list()\n",
    "\n",
    "for epoch in range(num_epochs):\n",
    "    model.train()\n",
    "    train_loss = 0.0\n",
    "    train_correct = 0\n",
    "    for i, data in enumerate(trainloader):\n",
    "        # data is a list of [inputs, labels]\n",
    "        inputs, labels = data\n",
    "\n",
    "        # Pass to GPU if available.\n",
    "        inputs, labels = inputs.to(device), labels.to(device)\n",
    "\n",
    "        optimizer.zero_grad()\n",
    "\n",
    "        outputs = model(inputs)\n",
    "        loss = criterion(outputs, labels)\n",
    "        loss.backward()\n",
    "        optimizer.step()\n",
    "\n",
    "        _, preds = torch.max(outputs.data, 1)\n",
    "        train_correct += (preds == labels).sum().item()\n",
    "        train_loss += loss.item()\n",
    "    print(f'Epoch {epoch + 1} training accuracy: {train_correct/len(trainloader):.2f}% training loss: {train_loss/len(trainloader):.5f}')\n",
    "    train_loss_history.append(train_loss/len(trainloader))\n",
    "\n",
    "    val_loss = 0.0\n",
    "    val_correct = 0\n",
    "    model.eval()\n",
    "    for inputs, labels in testloader:\n",
    "        inputs, labels = inputs.to(device), labels.to(device)\n",
    "\n",
    "        outputs = model(inputs)\n",
    "        loss = criterion(outputs, labels)\n",
    "\n",
    "        _, preds = torch.max(outputs.data, 1)\n",
    "        val_correct += (preds == labels).sum().item()\n",
    "        val_loss += loss.item()\n",
    "    print(f'Epoch {epoch + 1} validation accuracy: {val_correct/len(testloader):.2f}% validation loss: {val_loss/len(testloader):.5f}')\n",
    "    val_loss_history.append(val_loss/len(testloader))"
   ]
  },
  {
   "cell_type": "markdown",
   "metadata": {},
   "source": [
    "Plot the training loss (and validation loss/accuracy, if recorded)."
   ]
  },
  {
   "cell_type": "code",
   "execution_count": 21,
   "metadata": {},
   "outputs": [
    {
     "data": {
      "image/png": "[encoded data removed]",
      "text/plain": [
       "<Figure size 432x288 with 1 Axes>"
      ]
     },
     "metadata": {
      "needs_background": "light"
     },
     "output_type": "display_data"
    }
   ],
   "source": [
    "# Plot the training and validation loss history\n",
    "plt.plot(train_loss_history, label=\"Training Loss\")\n",
    "plt.plot(val_loss_history, label=\"Validation Loss\")\n",
    "plt.legend()\n",
    "plt.show()"
   ]
  },
  {
   "cell_type": "markdown",
   "metadata": {},
   "source": [
    "## Testing your model\n",
    "Using the previously created `DataLoader` for the test set, compute the percentage of correct predictions using the highest probability prediction. \n",
    "\n",
    "If your accuracy is over 90%, great work, but see if you can push a bit further! \n",
    "If your accuracy is under 90%, you'll need to make improvements.\n",
    "Go back and check your model architecture, loss function, and optimizer to make sure they're appropriate for an image classification task."
   ]
  },
  {
   "cell_type": "code",
   "execution_count": 24,
   "metadata": {},
   "outputs": [
    {
     "name": "stdout",
     "output_type": "stream",
     "text": [
      "Test accuracy: 38.22%\n",
      "Test accuracy: 37.58%\n",
      "Test accuracy: 38.85%\n",
      "Test accuracy: 37.58%\n",
      "Test accuracy: 38.85%\n",
      "Test accuracy: 37.58%\n",
      "Test accuracy: 40.76%\n",
      "Test accuracy: 38.85%\n",
      "Test accuracy: 38.85%\n",
      "Test accuracy: 38.85%\n",
      "Test accuracy: 38.22%\n",
      "Test accuracy: 37.58%\n",
      "Test accuracy: 38.85%\n",
      "Test accuracy: 39.49%\n",
      "Test accuracy: 38.22%\n",
      "Test accuracy: 38.22%\n",
      "Test accuracy: 37.58%\n",
      "Test accuracy: 38.22%\n",
      "Test accuracy: 37.58%\n",
      "Test accuracy: 36.94%\n",
      "Test accuracy: 38.22%\n",
      "Test accuracy: 36.31%\n",
      "Test accuracy: 40.13%\n",
      "Test accuracy: 38.22%\n",
      "Test accuracy: 39.49%\n",
      "Test accuracy: 38.22%\n",
      "Test accuracy: 40.13%\n",
      "Test accuracy: 38.22%\n",
      "Test accuracy: 38.85%\n",
      "Test accuracy: 40.13%\n",
      "Test accuracy: 39.49%\n",
      "Test accuracy: 40.13%\n",
      "Test accuracy: 36.31%\n",
      "Test accuracy: 38.22%\n",
      "Test accuracy: 36.94%\n",
      "Test accuracy: 36.94%\n",
      "Test accuracy: 37.58%\n",
      "Test accuracy: 38.85%\n",
      "Test accuracy: 37.58%\n",
      "Test accuracy: 36.94%\n",
      "Test accuracy: 38.85%\n",
      "Test accuracy: 39.49%\n",
      "Test accuracy: 40.76%\n",
      "Test accuracy: 38.85%\n",
      "Test accuracy: 38.85%\n",
      "Test accuracy: 38.22%\n",
      "Test accuracy: 39.49%\n",
      "Test accuracy: 40.13%\n",
      "Test accuracy: 36.94%\n",
      "Test accuracy: 36.31%\n",
      "Test accuracy: 39.49%\n",
      "Test accuracy: 39.49%\n",
      "Test accuracy: 36.94%\n",
      "Test accuracy: 39.49%\n",
      "Test accuracy: 39.49%\n",
      "Test accuracy: 38.85%\n",
      "Test accuracy: 38.22%\n",
      "Test accuracy: 39.49%\n",
      "Test accuracy: 38.85%\n",
      "Test accuracy: 36.94%\n",
      "Test accuracy: 37.58%\n",
      "Test accuracy: 39.49%\n",
      "Test accuracy: 38.22%\n",
      "Test accuracy: 38.85%\n",
      "Test accuracy: 40.13%\n",
      "Test accuracy: 38.22%\n",
      "Test accuracy: 36.31%\n",
      "Test accuracy: 36.94%\n",
      "Test accuracy: 36.94%\n",
      "Test accuracy: 38.85%\n",
      "Test accuracy: 36.94%\n",
      "Test accuracy: 38.22%\n",
      "Test accuracy: 38.22%\n",
      "Test accuracy: 38.22%\n",
      "Test accuracy: 39.49%\n",
      "Test accuracy: 38.85%\n",
      "Test accuracy: 39.49%\n",
      "Test accuracy: 36.94%\n",
      "Test accuracy: 38.22%\n",
      "Test accuracy: 38.85%\n",
      "Test accuracy: 37.58%\n",
      "Test accuracy: 38.22%\n",
      "Test accuracy: 40.13%\n",
      "Test accuracy: 38.85%\n",
      "Test accuracy: 40.13%\n",
      "Test accuracy: 40.13%\n",
      "Test accuracy: 38.85%\n",
      "Test accuracy: 40.13%\n",
      "Test accuracy: 38.22%\n",
      "Test accuracy: 36.94%\n",
      "Test accuracy: 40.13%\n",
      "Test accuracy: 37.58%\n",
      "Test accuracy: 33.12%\n",
      "Test accuracy: 38.85%\n",
      "Test accuracy: 37.58%\n",
      "Test accuracy: 38.22%\n",
      "Test accuracy: 35.03%\n",
      "Test accuracy: 37.58%\n",
      "Test accuracy: 36.94%\n",
      "Test accuracy: 38.22%\n",
      "Test accuracy: 39.49%\n",
      "Test accuracy: 36.94%\n",
      "Test accuracy: 38.22%\n",
      "Test accuracy: 36.94%\n",
      "Test accuracy: 38.22%\n",
      "Test accuracy: 39.49%\n",
      "Test accuracy: 33.76%\n",
      "Test accuracy: 39.49%\n",
      "Test accuracy: 38.85%\n",
      "Test accuracy: 38.85%\n",
      "Test accuracy: 38.22%\n",
      "Test accuracy: 38.22%\n",
      "Test accuracy: 36.94%\n",
      "Test accuracy: 38.85%\n",
      "Test accuracy: 37.58%\n",
      "Test accuracy: 37.58%\n",
      "Test accuracy: 40.13%\n",
      "Test accuracy: 38.22%\n",
      "Test accuracy: 38.22%\n",
      "Test accuracy: 38.85%\n",
      "Test accuracy: 38.22%\n",
      "Test accuracy: 40.13%\n",
      "Test accuracy: 38.85%\n",
      "Test accuracy: 39.49%\n",
      "Test accuracy: 36.31%\n",
      "Test accuracy: 40.13%\n",
      "Test accuracy: 39.49%\n",
      "Test accuracy: 38.85%\n",
      "Test accuracy: 40.13%\n",
      "Test accuracy: 40.13%\n",
      "Test accuracy: 35.67%\n",
      "Test accuracy: 37.58%\n",
      "Test accuracy: 37.58%\n",
      "Test accuracy: 39.49%\n",
      "Test accuracy: 38.85%\n",
      "Test accuracy: 38.85%\n",
      "Test accuracy: 37.58%\n",
      "Test accuracy: 38.85%\n",
      "Test accuracy: 40.13%\n",
      "Test accuracy: 38.22%\n",
      "Test accuracy: 38.85%\n",
      "Test accuracy: 38.85%\n",
      "Test accuracy: 38.22%\n",
      "Test accuracy: 40.76%\n",
      "Test accuracy: 38.85%\n",
      "Test accuracy: 37.58%\n",
      "Test accuracy: 38.85%\n",
      "Test accuracy: 37.58%\n",
      "Test accuracy: 38.22%\n",
      "Test accuracy: 36.94%\n",
      "Test accuracy: 38.85%\n",
      "Test accuracy: 38.22%\n",
      "Test accuracy: 37.58%\n",
      "Test accuracy: 38.22%\n",
      "Test accuracy: 40.13%\n",
      "Test accuracy: 38.85%\n",
      "Test accuracy: 10.19%\n"
     ]
    }
   ],
   "source": [
    "model.eval()\n",
    "for images, labels in testloader:\n",
    "    val_correct = 0\n",
    "    images, labels = images.to(device), labels.to(device)\n",
    "    outputs = model(images)\n",
    "    _, preds = torch.max(outputs.data, 1)\n",
    "    val_correct += (preds == labels).sum().item()\n",
    "    print(f'Test accuracy: {val_correct/len(testloader)*100:.2f}%')"
   ]
  },
  {
   "cell_type": "markdown",
   "metadata": {},
   "source": [
    "## Improving your model\n",
    "\n",
    "Once your model is done training, try tweaking your hyperparameters and training again below to improve your accuracy on the test set!"
   ]
  },
  {
   "cell_type": "code",
   "execution_count": 26,
   "metadata": {},
   "outputs": [],
   "source": [
    "device = torch.device(\"cuda\" if torch.cuda.is_available() else \"cpu\")\n",
    "\n",
    "model = MNISTNeuralNetwork()\n",
    "model.to(device)\n",
    "\n",
    "criterion = nn.CrossEntropyLoss()\n",
    "optimizer = optim.Adam(model.parameters(), lr=0.01)"
   ]
  },
  {
   "cell_type": "code",
   "execution_count": 27,
   "metadata": {},
   "outputs": [
    {
     "name": "stdout",
     "output_type": "stream",
     "text": [
      "Epoch 1 training accuracy: 34.81% training loss: 1.30875\n",
      "Epoch 1 validation accuracy: 6.58% validation loss: 5.58587\n",
      "Epoch 2 training accuracy: 35.75% training loss: 1.29512\n",
      "Epoch 2 validation accuracy: 6.61% validation loss: 3.51393\n",
      "Epoch 3 training accuracy: 35.94% training loss: 1.26470\n",
      "Epoch 3 validation accuracy: 7.60% validation loss: 2.44569\n",
      "Epoch 4 training accuracy: 35.60% training loss: 1.28497\n",
      "Epoch 4 validation accuracy: 8.76% validation loss: 2.44572\n",
      "Epoch 5 training accuracy: 33.21% training loss: 1.37774\n",
      "Epoch 5 validation accuracy: 18.11% validation loss: 2.01156\n"
     ]
    }
   ],
   "source": [
    "num_epochs = 5\n",
    "\n",
    "# Establish a list for our history\n",
    "train_loss_history = list()\n",
    "val_loss_history = list()\n",
    "\n",
    "for epoch in range(num_epochs):\n",
    "    model.train()\n",
    "    train_loss = 0.0\n",
    "    train_correct = 0\n",
    "    for i, data in enumerate(trainloader):\n",
    "        # data is a list of [inputs, labels]\n",
    "        inputs, labels = data\n",
    "\n",
    "        # Pass to GPU if available.\n",
    "        inputs, labels = inputs.to(device), labels.to(device)\n",
    "\n",
    "        optimizer.zero_grad()\n",
    "\n",
    "        outputs = model(inputs)\n",
    "        loss = criterion(outputs, labels)\n",
    "        loss.backward()\n",
    "        optimizer.step()\n",
    "\n",
    "        _, preds = torch.max(outputs.data, 1)\n",
    "        train_correct += (preds == labels).sum().item()\n",
    "        train_loss += loss.item()\n",
    "    print(f'Epoch {epoch + 1} training accuracy: {train_correct/len(trainloader):.2f}% training loss: {train_loss/len(trainloader):.5f}')\n",
    "    train_loss_history.append(train_loss/len(trainloader))\n",
    "\n",
    "    val_loss = 0.0\n",
    "    val_correct = 0\n",
    "    model.eval()\n",
    "    for inputs, labels in testloader:\n",
    "        inputs, labels = inputs.to(device), labels.to(device)\n",
    "\n",
    "        outputs = model(inputs)\n",
    "        loss = criterion(outputs, labels)\n",
    "\n",
    "        _, preds = torch.max(outputs.data, 1)\n",
    "        val_correct += (preds == labels).sum().item()\n",
    "        val_loss += loss.item()\n",
    "    print(f'Epoch {epoch + 1} validation accuracy: {val_correct/len(testloader):.2f}% validation loss: {val_loss/len(testloader):.5f}')\n",
    "    val_loss_history.append(val_loss/len(testloader))"
   ]
  },
  {
   "cell_type": "code",
   "execution_count": 28,
   "metadata": {},
   "outputs": [
    {
     "name": "stdout",
     "output_type": "stream",
     "text": [
      "Test accuracy: 11.46%\n",
      "Test accuracy: 7.64%\n",
      "Test accuracy: 11.46%\n",
      "Test accuracy: 11.46%\n",
      "Test accuracy: 13.38%\n",
      "Test accuracy: 13.38%\n",
      "Test accuracy: 10.19%\n",
      "Test accuracy: 9.55%\n",
      "Test accuracy: 10.83%\n",
      "Test accuracy: 12.10%\n",
      "Test accuracy: 11.46%\n",
      "Test accuracy: 8.92%\n",
      "Test accuracy: 12.74%\n",
      "Test accuracy: 11.46%\n",
      "Test accuracy: 15.92%\n",
      "Test accuracy: 11.46%\n",
      "Test accuracy: 14.01%\n",
      "Test accuracy: 14.01%\n",
      "Test accuracy: 14.01%\n",
      "Test accuracy: 8.92%\n",
      "Test accuracy: 10.83%\n",
      "Test accuracy: 9.55%\n",
      "Test accuracy: 14.01%\n",
      "Test accuracy: 9.55%\n",
      "Test accuracy: 13.38%\n",
      "Test accuracy: 8.92%\n",
      "Test accuracy: 8.92%\n",
      "Test accuracy: 10.19%\n",
      "Test accuracy: 11.46%\n",
      "Test accuracy: 7.01%\n",
      "Test accuracy: 12.10%\n",
      "Test accuracy: 14.65%\n",
      "Test accuracy: 9.55%\n",
      "Test accuracy: 10.83%\n",
      "Test accuracy: 8.28%\n",
      "Test accuracy: 15.92%\n",
      "Test accuracy: 9.55%\n",
      "Test accuracy: 9.55%\n",
      "Test accuracy: 14.65%\n",
      "Test accuracy: 14.65%\n",
      "Test accuracy: 8.92%\n",
      "Test accuracy: 14.65%\n",
      "Test accuracy: 15.92%\n",
      "Test accuracy: 9.55%\n",
      "Test accuracy: 11.46%\n",
      "Test accuracy: 14.01%\n",
      "Test accuracy: 14.65%\n",
      "Test accuracy: 14.01%\n",
      "Test accuracy: 13.38%\n",
      "Test accuracy: 15.29%\n",
      "Test accuracy: 13.38%\n",
      "Test accuracy: 12.74%\n",
      "Test accuracy: 8.92%\n",
      "Test accuracy: 12.10%\n",
      "Test accuracy: 7.64%\n",
      "Test accuracy: 11.46%\n",
      "Test accuracy: 12.74%\n",
      "Test accuracy: 9.55%\n",
      "Test accuracy: 10.19%\n",
      "Test accuracy: 11.46%\n",
      "Test accuracy: 8.28%\n",
      "Test accuracy: 9.55%\n",
      "Test accuracy: 10.19%\n",
      "Test accuracy: 12.10%\n",
      "Test accuracy: 13.38%\n",
      "Test accuracy: 12.10%\n",
      "Test accuracy: 13.38%\n",
      "Test accuracy: 11.46%\n",
      "Test accuracy: 10.19%\n",
      "Test accuracy: 10.83%\n",
      "Test accuracy: 9.55%\n",
      "Test accuracy: 12.74%\n",
      "Test accuracy: 15.29%\n",
      "Test accuracy: 14.01%\n",
      "Test accuracy: 10.83%\n",
      "Test accuracy: 8.28%\n",
      "Test accuracy: 10.83%\n",
      "Test accuracy: 13.38%\n",
      "Test accuracy: 8.28%\n",
      "Test accuracy: 12.10%\n",
      "Test accuracy: 8.28%\n",
      "Test accuracy: 14.01%\n",
      "Test accuracy: 10.83%\n",
      "Test accuracy: 10.19%\n",
      "Test accuracy: 8.28%\n",
      "Test accuracy: 8.92%\n",
      "Test accuracy: 13.38%\n",
      "Test accuracy: 7.64%\n",
      "Test accuracy: 9.55%\n",
      "Test accuracy: 9.55%\n",
      "Test accuracy: 14.01%\n",
      "Test accuracy: 8.92%\n",
      "Test accuracy: 13.38%\n",
      "Test accuracy: 13.38%\n",
      "Test accuracy: 7.01%\n",
      "Test accuracy: 10.19%\n",
      "Test accuracy: 10.19%\n",
      "Test accuracy: 12.74%\n",
      "Test accuracy: 10.83%\n",
      "Test accuracy: 14.65%\n",
      "Test accuracy: 12.74%\n",
      "Test accuracy: 8.92%\n",
      "Test accuracy: 14.65%\n",
      "Test accuracy: 8.92%\n",
      "Test accuracy: 15.29%\n",
      "Test accuracy: 14.65%\n",
      "Test accuracy: 7.64%\n",
      "Test accuracy: 8.92%\n",
      "Test accuracy: 13.38%\n",
      "Test accuracy: 14.01%\n",
      "Test accuracy: 12.10%\n",
      "Test accuracy: 11.46%\n",
      "Test accuracy: 9.55%\n",
      "Test accuracy: 10.19%\n",
      "Test accuracy: 13.38%\n",
      "Test accuracy: 11.46%\n",
      "Test accuracy: 9.55%\n",
      "Test accuracy: 12.74%\n",
      "Test accuracy: 13.38%\n",
      "Test accuracy: 12.10%\n",
      "Test accuracy: 12.74%\n",
      "Test accuracy: 14.65%\n",
      "Test accuracy: 14.65%\n",
      "Test accuracy: 9.55%\n",
      "Test accuracy: 11.46%\n",
      "Test accuracy: 15.29%\n",
      "Test accuracy: 7.64%\n",
      "Test accuracy: 14.01%\n",
      "Test accuracy: 9.55%\n",
      "Test accuracy: 15.92%\n",
      "Test accuracy: 10.19%\n",
      "Test accuracy: 11.46%\n",
      "Test accuracy: 14.65%\n",
      "Test accuracy: 10.83%\n",
      "Test accuracy: 10.83%\n",
      "Test accuracy: 12.74%\n",
      "Test accuracy: 9.55%\n",
      "Test accuracy: 10.19%\n",
      "Test accuracy: 15.29%\n",
      "Test accuracy: 10.19%\n",
      "Test accuracy: 12.10%\n",
      "Test accuracy: 14.01%\n",
      "Test accuracy: 9.55%\n",
      "Test accuracy: 14.65%\n",
      "Test accuracy: 11.46%\n",
      "Test accuracy: 10.83%\n",
      "Test accuracy: 14.01%\n",
      "Test accuracy: 9.55%\n",
      "Test accuracy: 12.10%\n",
      "Test accuracy: 15.92%\n",
      "Test accuracy: 8.28%\n",
      "Test accuracy: 12.74%\n",
      "Test accuracy: 12.74%\n",
      "Test accuracy: 9.55%\n",
      "Test accuracy: 14.01%\n",
      "Test accuracy: 7.64%\n",
      "Test accuracy: 2.55%\n"
     ]
    }
   ],
   "source": [
    "model.eval()\n",
    "for images, labels in testloader:\n",
    "    val_correct = 0\n",
    "    images, labels = images.to(device), labels.to(device)\n",
    "    outputs = model(images)\n",
    "    _, preds = torch.max(outputs.data, 1)\n",
    "    val_correct += (preds == labels).sum().item()\n",
    "    print(f'Test accuracy: {val_correct/len(testloader)*100:.2f}%')"
   ]
  },
  {
   "cell_type": "markdown",
   "metadata": {},
   "source": [
    "## Saving your model\n",
    "Using `torch.save`, save your model for future loading."
   ]
  },
  {
   "cell_type": "code",
   "execution_count": null,
   "metadata": {},
   "outputs": [],
   "source": [
    "torch.save(model)"
   ]
  }
 ],
 "metadata": {
  "kernelspec": {
   "display_name": "Python 3",
   "language": "python",
   "name": "python3"
  },
  "language_info": {
   "codemirror_mode": {
    "name": "ipython",
    "version": 3
   },
   "file_extension": ".py",
   "mimetype": "text/x-python",
   "name": "python",
   "nbconvert_exporter": "python",
   "pygments_lexer": "ipython3",
   "version": "3.7.6"
  }
 },
 "nbformat": 4,
 "nbformat_minor": 4
}
